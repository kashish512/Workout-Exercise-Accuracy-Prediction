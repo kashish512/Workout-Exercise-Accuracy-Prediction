{
 "cells": [
  {
   "cell_type": "code",
   "execution_count": 1,
   "id": "3c590662",
   "metadata": {},
   "outputs": [
    {
     "name": "stderr",
     "output_type": "stream",
     "text": [
      "DEBUG:urllib3.connectionpool:Starting new HTTPS connection (1): ttl-18h-25jan-4264hmak2a-em.a.run.app:443\n",
      "DEBUG:urllib3.connectionpool:https://ttl-18h-25jan-4264hmak2a-em.a.run.app:443 \"POST /output_video HTTP/1.1\" 200 222\n"
     ]
    },
    {
     "name": "stdout",
     "output_type": "stream",
     "text": [
      "{'exercise': 'glute bridges', 'URL': 'https://storage.googleapis.com/exercise-api-output-video/output_video_How%20To%20Do%20A%20Glute%20Bridge.mp4', 'Muscles Involved': 'Gluteus Maximus, Hamstrings, Quadriceps, Erector Spinae'}\n"
     ]
    }
   ],
   "source": [
    "import requests\n",
    "url ='https://ttl-18h-25jan-4264hmak2a-em.a.run.app/output_video'\n",
    "\n",
    "\n",
    "import logging\n",
    "logging.basicConfig(level=logging.DEBUG)\n",
    "\n",
    "video_file_path = 'How To Do A Glute Bridge.mp4'\n",
    "\n",
    "payload = {'file': open(video_file_path, 'rb')}\n",
    "\n",
    "try:\n",
    "    response = requests.post(url, files=payload)\n",
    "    response.raise_for_status()  # Raise an HTTPError for bad responses\n",
    "    result = response.json()\n",
    "    print(result)\n",
    "except requests.exceptions.HTTPError as errh:\n",
    "    print(f\"HTTP Error: {errh}\")\n",
    "except requests.exceptions.RequestException as err:\n",
    "    print(f\"Request Error: {err}\")"
   ]
  },
  {
   "cell_type": "code",
   "execution_count": null,
   "id": "8bce8223",
   "metadata": {},
   "outputs": [],
   "source": []
  }
 ],
 "metadata": {
  "kernelspec": {
   "display_name": "Python 3 (ipykernel)",
   "language": "python",
   "name": "python3"
  },
  "language_info": {
   "codemirror_mode": {
    "name": "ipython",
    "version": 3
   },
   "file_extension": ".py",
   "mimetype": "text/x-python",
   "name": "python",
   "nbconvert_exporter": "python",
   "pygments_lexer": "ipython3",
   "version": "3.10.9"
  }
 },
 "nbformat": 4,
 "nbformat_minor": 5
}
